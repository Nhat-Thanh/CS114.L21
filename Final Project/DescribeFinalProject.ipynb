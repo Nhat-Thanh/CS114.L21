{
  "nbformat": 4,
  "nbformat_minor": 0,
  "metadata": {
    "colab": {
      "name": "DescribeFinalProject.ipynb",
      "provenance": [],
      "collapsed_sections": [],
      "include_colab_link": true
    },
    "kernelspec": {
      "name": "python3",
      "display_name": "Python 3"
    },
    "language_info": {
      "name": "python"
    }
  },
  "cells": [
    {
      "cell_type": "markdown",
      "metadata": {
        "id": "view-in-github",
        "colab_type": "text"
      },
      "source": [
        "<a href=\"https://colab.research.google.com/github/Nhat-Thanh/CS114.L21/blob/main/Big%20Assignment/DescribeFinalProject.ipynb\" target=\"_parent\"><img src=\"https://colab.research.google.com/assets/colab-badge.svg\" alt=\"Open In Colab\"/></a>"
      ]
    },
    {
      "cell_type": "markdown",
      "metadata": {
        "id": "v7vpnoSzuGuV"
      },
      "source": [
        "<center> <h1> <b> CS114.L21: MACHINE LEARNING <center> <h1> <b>\n",
        "\n",
        "<center> <h2> <b> PHÁT HIỆN MANG KHẨU TRANG ĐÚNG CÁCH VỚI CAMERA THỜI GIAN THỰC  <center> <h> <b>"
      ]
    },
    {
      "cell_type": "markdown",
      "metadata": {
        "id": "60YpisRBvA-C"
      },
      "source": [
        "##**1. Giới thiệu**\n",
        "**1. Giảng viên hướng dẫn**\n",
        "1. Thầy Nguyễn Đình Duy\n",
        "2. Thầy Phạm Nguyễn Trường An\n",
        "\n",
        "\n",
        "**2. Nhóm thực hiện**\n",
        "\n",
        "* 19522246 - Vũ Nguyễn Nhật Thanh\n",
        "* 19522180 - Trương Thế Tấn\n",
        "* 19521551 - Nông Thanh Hồng"
      ]
    },
    {
      "cell_type": "markdown",
      "metadata": {
        "id": "ziSHshFR6iDD"
      },
      "source": [
        "##**2. Mô tả**\n",
        "\n",
        "Năm 2020, 2021 thế giới nói chung và Việt Nam nói riêng đã có nhiều thay đổi khi đối mặt với dịch bệnh Covid - 19.  Theo số liệu trang [worldometers.info](https://www.worldometers.info/coronavirus/), tính đến 7h ngày 23/5/2021 *(theo giờ Việt Nam)*, trên thế giới đã có 167,02 triệu ca nhiễm Covid-19 và 3.467.879 ca tử trong. Trong khi con số đó ở Việt Nam được tính tới 8h ngày 6/6/2021 là 8.541 ca nhiễm và 53 ca tử vong *(theo số liệu bộ Y tế)*. \n",
        "\n",
        "Trong khi các nước phát triển khác trên thế giới như Mĩ, Ấn độ, Brazil, Anh đã \"vỡ trận\" thì Việt Nam với quy định **5K** ngay từ những ca bệnh đầu tiên đã có những thành công trong bước đầu chống dịch. Trong đó, ***mang khẩu trang*** được xem là biện pháp hữu hiệu trong việc phòng chống Covid-19. \n",
        "\n",
        "Tuy nhiên, việc mang khẩu trang sẽ không có tác dụng nếu như chúng ta mang sai cách. Để đảm bảo việc thực hiện đúng quy định mang khẩu trang và mang một cách hiệu quả thì nhóm em hướng tới tận dụng sự phát triển của Machine Learning trong việc nhận diện người không mang khẩu trang hoặc mang khẩu trang sai cách. Mô hình sẽ được ứng dụng ở các tòa nhà, cửa hàng,... nơi có nhiều người ra vào. Thông qua việc đặt camera (hoặc tận dụng nếu phù hợp) trước các cửa ra vào, mô hình sẽ cảnh báo được người đang không mang hoặc mang khẩu trang sai cách. Góp phần giúp họ điều chỉnh, thực hiện tốt quy định, đồng thời giúp các nhân viên an ninh kiểm soát tốt việc thực hiện đúng quy định. "
      ]
    },
    {
      "cell_type": "markdown",
      "metadata": {
        "id": "0jcKgQNRo8Lv"
      },
      "source": [
        "###**2.1. Yêu cầu của đồ án**\n",
        "\n",
        "**Đồ án cuối kỳ cần phải có mô tả thể hiện dưới dạng notebook lưu trên repos github của SV.**\n",
        "\n",
        "**Các thông tin bao gồm:**\n",
        "\n",
        "1. Mô tả bài toán: Input, Output\n",
        "\n",
        "2. Mô tả về bộ dữ liệu:\n",
        " + cách thức xây dựng bộ dữ liệu (ví dụ có sẵn trên mạng, hoặc tự xây dựng)\n",
        " + số lượng, độ đa dạng\n",
        " + các thao tác tiền xử lý dữ liệu\n",
        " + phân chia (split) - train/dev/test\n",
        "\n",
        "3. Mô tả về đặc trưng\n",
        " + feature engineering\n",
        "\n",
        "4. Mô tả về thuật toán máy học\n",
        "\n",
        "5. Cài đặt, tinh chỉnh tham số\n",
        "\n",
        "6. Đánh giá kết quả, kết luận\n",
        "\n",
        "7. Đồ án được đánh giá cao là đồ án xuất phát từ thực tế\n",
        "\n",
        "8. Lưu ý đến tính khả thi của việc thu thập dữ liệu, và rút trích đặc trưng."
      ]
    },
    {
      "cell_type": "markdown",
      "metadata": {
        "id": "sLQi5w3W6l9E"
      },
      "source": [
        "###**2.2. Input/Output**\n",
        "\n",
        "- **Input:**\n",
        "  - frame (khung hình) được chụp từ camera trước cửa ra vào tòa nhà, với cửa hàng,... \n",
        "  - Góc chụp sẽ từ camera đặt trước cửa ra vào, cách 3 - 4 (m) so với mặt nền dưới điều kiện ánh sáng ngoài trời vào ban ngày và ánh sáng màu trắng của các cột đèn hay của bóng đèn trên trần nhà vào ban đêm. Chụp khách hàng, sinh viên,... từ ngoài đi vào. Khoảng cách nhận diện từ 1 - 5 (m).\n",
        "    - Ví dụ\n",
        "    ![correct-mask](https://drive.google.com/uc?export=view&id=1CkCsGN36JxQWUNqDXc6Psy0bCUFBUqIx)\n",
        "\n",
        "- **Output**\n",
        "  - Các bounded box có màu là 1 trong 3 màu sắc khác nhau (đỏ, vàng, xanh lục) chứa khuôn mặt của từng người, mỗi màu sắc của bounded box sẽ biểu hiện cho các nhãn khác nhau.\n",
        "  - Có 3 nhãn và mỗi nhãn có màu sắc của viền tương ứng là:\n",
        "    - **correct-mask** (mang khẩu trang đúng cách): viền xanh lục\n",
        "    - **without mask** (không mang khẩu trang): viền màu đỏ\n",
        "    - **incorrect-mask** (mang khẩu trang sai cách), viền màu vàng\n"
      ]
    },
    {
      "cell_type": "markdown",
      "metadata": {
        "id": "xteHRUglwGwy"
      },
      "source": [
        "###**2.3. Mô tả bộ dữ liệu**\n",
        "\n",
        "- dataset sẽ gồm các ảnh có góc chụp như ví dụ trên, dataset sẽ gồm 3 nhãn:\n",
        "  - correct-mask *(mang khẩu trang đúng cách)*\n",
        "  - incorrect-mask *(mang khẩu trang sai cách)*\n",
        "  - without-mask *(không mang khẩu trang)*\n",
        "\n",
        "- **Thu thập dữ liệu**\n",
        "  - Dữ liệu được nhóm thu thập trên mạng *(tự xây dựng)*. Bởi xét theo bài toán đặt ra thì không có những dataset có sẵn.\n",
        "  - *correct-mask* và *without-mask* sẽ có nhiều ảnh, nhưng nhóm chỉ chọn những ảnh có góc độ chụp như input.\n",
        "  - Với *incorrect-mask* thì việc thu thập dataset từ thực tế khá khó khăn do tình hình dịch bệnh trong TP HCM đang diễn biến phức tạp và các quận trong TP HCM hiện đang thực hiện dãn cách xã hội, nhiều của hàng đóng cửa, người dân hạn chế ra ngoài nên việc thu thập dataset đúng với ngữ cảnh ban đầu rất khó khăn. Nhóm sẽ tự tạo dataset cho nhãn *incorrect-mask* bằng cách sử dụng ảnh *người không mang khẩu trang* và *ghép ảnh khẩu trang mang sai cách vào từng khuôn mặt* trong hình. Với *incorrect-mask* là bộ ảnh khác, không lấy lại những ảnh từ *without-mask* để ghép *(Công đoạn này làm bằng tay)*. Ví dụ:\n",
        "  ![incorrect](https://drive.google.com/uc?export=view&id=1b85i6ahj-_KseeebFD0BbnhPhhI5cJif)\n",
        "\n",
        "- **Số lượng, đa dạng**\n",
        "  - Số lượng ảnh trong dataset khoảng 1300 ảnh khuôn mặt mỗi nhãn.\n",
        "  - dataset được thu thập trên mạng những ảnh có góc chụp tương tự *(Không sử dụng dataset có sẵn)*. Ảnh được tìm từ nhiều nước trên thế giới, phổ biến trong số đó là Nhật Bản, Trung Quốc, Ấn Độ, Mỹ, Brazil... \n",
        "    - Lý do tại sao data lại phổ biến từ các nước kể trên:\n",
        "      1. Trung Quốc, Mỹ, Ấn Độ là những điểm nóng của Covid-19 nên sẽ có nhiều ảnh liên quan việc mang và không mang khẩu trang\n",
        "      2. Phần lớn khách du lịch đến Việt Nam từ Trung Quốc, Mỹ\n",
        "\n",
        "- **Về xử lý dữ liệu** \n",
        "  - Trước hết nhóm sẽ lọc ảnh và cắt bớt những phần mờ, không rõ khuôn mặt, chỉ giữ lại những phần có khuôn mặt rõ nét *(làm bằng tay)*\n",
        "  - Tiếp đến nhóm sử dụng OpenCV để xử lý dữ liệu ảnh, cụ thể:\n",
        "    - Nhận diện khuôn mặt người trong ảnh lớn (mõi ảnh trung bình từ 3 - 7 khuôn mặt)\n",
        "    - Sau khi đã nhận diện chính xác, khuôn mặt sẽ được cắt ra, và lưu lại những ảnh đã cắt. Ví dụ\n",
        "\n",
        "      ![mask1](https://drive.google.com/uc?export=view&id=1LnBgEIbyQ-Uhay3UA2X-XEXic8uv3fqu)\n",
        "      ![mask2](https://drive.google.com/uc?export=view&id=1z6Pdb9v-vkzA2ES-PogJK1HrqVNeF4l9)\n",
        "\n",
        "      ![no1](https://drive.google.com/uc?export=view&id=1FrhXR3hHH_uxxi5Z2cEb1l9wexyVEKm4)\n",
        "      ![n2](https://drive.google.com/uc?export=view&id=11EKG2Wdj5g2dG7fNuhUNBy7KVdecnf25)\n",
        "\n",
        "      ![un1](https://drive.google.com/uc?export=view&id=1fl7sLfOSRCXj9fDKD-NwRSfYu0NeZkcw)\n",
        "      ![un2](https://drive.google.com/uc?export=view&id=1qIbtdEyiIezrMLRcQuYNVGHCH9AnLQiv)\n",
        "\n",
        "    - Lọc bỏ những ảnh có kích thước nhỏ hơn một ngưỡng đề ra để bỏ những ảnh quá nhỏ, không rõ (nhóm sẽ xem những ảnh được cắt và chọn  một ngưỡng phù hợp).\n",
        "    - Để tăng sô lượng data và giảm thiểu overfitting, các ảnh khuôn mặt không chỉ được cắt chính giữa mà còn được cắt lệnh trái, lệnh phải từ 100 - 200 pixel. Ví dụ\n",
        "\n",
        "      ![right](https://drive.google.com/uc?export=view&id=1oXy8VN_ioa4BTtu48KnMIVUx0lHEC5XN) \n",
        "      ![left](https://drive.google.com/uc?export=view&id=13XggEXgQact_7JsZHa27YJfC6iARknMg) \n",
        "  \n",
        "- **Phân chia dữ liệu**\n",
        "  - Với số lượng hơn 1300 ảnh *(khuôn mặt)* mỗi nhãn *(tổng cộng gần 4000 ảnh khuôn mặt)*  thì nhóm đề xuất chia dữ liệu như sau:\n",
        "    - Training set: 60%\n",
        "    - Development/validation set: 20%\n",
        "    - Test set: 20%"
      ]
    },
    {
      "cell_type": "markdown",
      "metadata": {
        "id": "jbzZ0sXo53-3"
      },
      "source": [
        "###**2.4. Mô tả đặc trưng**"
      ]
    }
  ]
}