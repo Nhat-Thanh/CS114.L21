{
  "nbformat": 4,
  "nbformat_minor": 0,
  "metadata": {
    "colab": {
      "name": "Run_Tim_Error.ipynb",
      "provenance": [],
      "collapsed_sections": [],
      "toc_visible": true,
      "authorship_tag": "ABX9TyPhQlBJzBSV2jehinVxCvy+",
      "include_colab_link": true
    },
    "kernelspec": {
      "name": "python3",
      "display_name": "Python 3"
    },
    "language_info": {
      "name": "python"
    }
  },
  "cells": [
    {
      "cell_type": "markdown",
      "metadata": {
        "id": "view-in-github",
        "colab_type": "text"
      },
      "source": [
        "<a href=\"https://colab.research.google.com/github/Nhat-Thanh/CS114.L21/blob/main/Run_Tim_Error.ipynb\" target=\"_parent\"><img src=\"https://colab.research.google.com/assets/colab-badge.svg\" alt=\"Open In Colab\"/></a>"
      ]
    },
    {
      "cell_type": "markdown",
      "metadata": {
        "id": "JnuOuv78ei27"
      },
      "source": [
        "Import thu vien"
      ]
    },
    {
      "cell_type": "code",
      "metadata": {
        "id": "aZaLZsB468LZ"
      },
      "source": [
        "import pandas as pd\n",
        "from sklearn.linear_model import LinearRegression\n",
        "from sklearn.metrics import mean_squared_error, r2_score\n",
        "import numpy as np\n",
        "import math\n",
        "import matplotlib.pyplot as plt\n",
        "LR=LinearRegression()"
      ],
      "execution_count": 1,
      "outputs": []
    },
    {
      "cell_type": "code",
      "metadata": {
        "id": "cYqOb_wxS7cS",
        "colab": {
          "base_uri": "https://localhost:8080/"
        },
        "outputId": "118bfc36-5e2f-4963-9c57-fa954c18c03f"
      },
      "source": [
        "!wget http://cs.uit.edu.vn/data2.txt -O data_train.csv\n",
        "!wc -l data_train.csv\n",
        "!wget http://cs.uit.edu.vn/data3.txt -O data_test_1.csv\n",
        "!wc -l data_test_1.csv"
      ],
      "execution_count": 2,
      "outputs": [
        {
          "output_type": "stream",
          "text": [
            "--2021-05-10 01:10:55--  http://cs.uit.edu.vn/data2.txt\n",
            "Resolving cs.uit.edu.vn (cs.uit.edu.vn)... 118.69.123.142\n",
            "Connecting to cs.uit.edu.vn (cs.uit.edu.vn)|118.69.123.142|:80... connected.\n",
            "HTTP request sent, awaiting response... 200 OK\n",
            "Length: 1203726 (1.1M) [text/plain]\n",
            "Saving to: ‘data_train.csv’\n",
            "\n",
            "data_train.csv      100%[===================>]   1.15M   889KB/s    in 1.3s    \n",
            "\n",
            "2021-05-10 01:10:57 (889 KB/s) - ‘data_train.csv’ saved [1203726/1203726]\n",
            "\n",
            "71115 data_train.csv\n",
            "--2021-05-10 01:10:57--  http://cs.uit.edu.vn/data3.txt\n",
            "Resolving cs.uit.edu.vn (cs.uit.edu.vn)... 118.69.123.142\n",
            "Connecting to cs.uit.edu.vn (cs.uit.edu.vn)|118.69.123.142|:80... connected.\n",
            "HTTP request sent, awaiting response... 200 OK\n",
            "Length: 178891 (175K) [text/plain]\n",
            "Saving to: ‘data_test_1.csv’\n",
            "\n",
            "data_test_1.csv     100%[===================>] 174.70K   263KB/s    in 0.7s    \n",
            "\n",
            "2021-05-10 01:10:58 (263 KB/s) - ‘data_test_1.csv’ saved [178891/178891]\n",
            "\n",
            "10590 data_test_1.csv\n"
          ],
          "name": "stdout"
        }
      ]
    },
    {
      "cell_type": "code",
      "metadata": {
        "colab": {
          "base_uri": "https://localhost:8080/"
        },
        "id": "2R5Y_kylc-zw",
        "outputId": "3e96afde-c7b2-4d65-97fb-05e811c315ec"
      },
      "source": [
        "#Training\n",
        "input=pd.read_csv('data_train.csv')\n",
        "input=input.to_numpy()\n",
        "x_train=input[:,0].reshape(-1,1)\n",
        "y_train=input[:,1].reshape(-1,1)\n",
        "LR.fit(x_train, y_train)"
      ],
      "execution_count": 3,
      "outputs": [
        {
          "output_type": "execute_result",
          "data": {
            "text/plain": [
              "LinearRegression(copy_X=True, fit_intercept=True, n_jobs=None, normalize=False)"
            ]
          },
          "metadata": {
            "tags": []
          },
          "execution_count": 3
        }
      ]
    },
    {
      "cell_type": "code",
      "metadata": {
        "colab": {
          "base_uri": "https://localhost:8080/",
          "height": 317
        },
        "id": "Xrzj5v0ydNb7",
        "outputId": "ab483fb7-d4ff-48f6-942f-fe50e322df88"
      },
      "source": [
        "output_2=pd.read_csv('data_test_1.csv')\n",
        "output_2=output_2.to_numpy()\n",
        "#Test\n",
        "x_test_2=output_2[:,0].reshape(-1,1)\n",
        "y_test_2=output_2[:,1].reshape(-1,1)\n",
        "#Valid\n",
        "y_pred_2=LR.predict(x_test_2)\n",
        "MSE_2=mean_squared_error(y_pred_2,y_test_2)\n",
        "acc_2=r2_score(y_test_2,y_pred_2)\n",
        "plt.scatter(x_test_2, y_test_2,  color='black')\n",
        "plt.plot(x_test_2,  y_pred_2, color='red', linewidth=4)\n",
        "\n",
        "plt.xticks(())\n",
        "plt.yticks(())\n",
        "plt.title(\"Train: data_2\\nTest: data_3\")\n",
        "plt.show()\n",
        "print(\"Mean Squared Error: {0}\\nAccuracy:{1}\".format(MSE_2,acc_2))"
      ],
      "execution_count": 4,
      "outputs": [
        {
          "output_type": "display_data",
          "data": {
            "image/png": "[encoded data removed]",
            "text/plain": [
              "<Figure size 432x288 with 1 Axes>"
            ]
          },
          "metadata": {
            "tags": []
          }
        },
        {
          "output_type": "stream",
          "text": [
            "Mean Squared Error: 0.020584154890083486\n",
            "Accuracy:0.9286487901424224\n"
          ],
          "name": "stdout"
        }
      ]
    }
  ]
}